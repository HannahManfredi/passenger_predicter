{
 "cells": [
  {
   "cell_type": "markdown",
   "metadata": {},
   "source": [
    "# Yoga: Time Series Forecasting - Airline Passengers\n"
   ]
  },
  {
   "cell_type": "markdown",
   "metadata": {},
   "source": [
    "### 🚦 Section Checkpoint: Start (Edit this cell)\n",
    "\n",
    "- Date and time you're starting this section (MM-DD-YY HH:MM AM/PM):\n"
   ]
  },
  {
   "cell_type": "markdown",
   "metadata": {},
   "source": [
    "## Training for Airline Passenger Prediction\n"
   ]
  },
  {
   "cell_type": "markdown",
   "metadata": {},
   "source": [
    "Adapt your deep learning knowledge to work on a time series forecasting task using the [airline-passengers](https://www.kaggle.com/chirag19/air-passengers) dataset.\n",
    "\n",
    "The dataset contains monthly totals of international airline passengers. You'll preprocess this data, design a LSTM-based model for time series forecasting, and train your model to predict future passenger numbers.\n"
   ]
  },
  {
   "cell_type": "markdown",
   "metadata": {},
   "source": [
    "## Training and Testing Split Analysis\n"
   ]
  },
  {
   "cell_type": "markdown",
   "metadata": {},
   "source": [
    "Is it possible to improve the model's performance by adjusting the training and testing split ratio or by modifying the lookback window size?\n",
    "\n",
    "Try experimenting with different configurations:\n",
    "\n",
    "- Adjust the training-testing split ratio.\n",
    "- Vary the lookback window size used for creating the dataset.\n",
    "- Observe the changes in model performance and document your findings.\n"
   ]
  },
  {
   "cell_type": "markdown",
   "metadata": {},
   "source": [
    "## Artifact and Metrics Logging\n"
   ]
  },
  {
   "cell_type": "markdown",
   "metadata": {},
   "source": [
    "Reminder: document all your experiments by logging inputs (code, data, parameter values) and outputs (model predictions, performance metrics).\n"
   ]
  },
  {
   "cell_type": "markdown",
   "metadata": {},
   "source": [
    "### 🚦 Section Checkpoint: Stop (Edit this cell)\n",
    "\n",
    "- Date and time stopped (MM-DD-YY HH:MM AM/PM):\n",
    "- How long did you spend actively focused on this section? (HH:MM):\n",
    "- How much did you enjoy this section? (1–5):\n",
    "- How useful was this section? (1–5):\n",
    "- Any obvious opportunities for improvement? (nested list):\n",
    "- Did you feel finished with this section (Yes/No):\n",
    "- Did you skip any parts (provide a nested list of skipped steps):\n",
    "- Any other notes? (nested list):\n"
   ]
  }
 ],
 "metadata": {
  "language_info": {
   "name": "python"
  }
 },
 "nbformat": 4,
 "nbformat_minor": 2
}
